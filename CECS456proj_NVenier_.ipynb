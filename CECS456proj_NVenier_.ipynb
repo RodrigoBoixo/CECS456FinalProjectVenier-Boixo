{
  "nbformat": 4,
  "nbformat_minor": 0,
  "metadata": {
    "colab": {
      "provenance": []
    },
    "kernelspec": {
      "name": "python3",
      "display_name": "Python 3"
    },
    "language_info": {
      "name": "python"
    }
  },
  "cells": [
    {
      "cell_type": "code",
      "execution_count": null,
      "metadata": {
        "id": "zgovhx6DmiIy"
      },
      "outputs": [],
      "source": [
        "import tensorflow as tf\n",
        "from tensorflow.keras.preprocessing.image import ImageDataGenerator\n",
        "from tensorflow.keras.models import Sequential\n",
        "from tensorflow.keras.layers import Conv2D, MaxPooling2D, Flatten, Dense, Dropout\n",
        "from tensorflow.keras.optimizers import Adam\n",
        "import matplotlib.pyplot as plt\n",
        "import os\n",
        "import shutil"
      ]
    },
    {
      "cell_type": "markdown",
      "source": [
        "### **Dataset:**\n",
        "\n",
        "Can be found here for download: [animals10_kaggle](https://www.kaggle.com/datasets/alessiocorrado99/animals10/data)"
      ],
      "metadata": {
        "id": "-QUoF6PxnzKi"
      }
    },
    {
      "cell_type": "code",
      "source": [
        "from google.colab import drive\n",
        "drive.mount('/content/drive')\n",
        "\n",
        "# Define the path to your dataset\n",
        "original_dataset_path = '/content/drive/My Drive/CECS456_Data/animals10/raw-img'\n",
        "translated_dataset_path = '/content/animals10-translated'"
      ],
      "metadata": {
        "colab": {
          "base_uri": "https://localhost:8080/"
        },
        "id": "cSyZmQ5WnzY4",
        "outputId": "cd986357-a5a3-4a76-8d5f-21faa418bf8f"
      },
      "execution_count": null,
      "outputs": [
        {
          "output_type": "stream",
          "name": "stdout",
          "text": [
            "Mounted at /content/drive\n"
          ]
        }
      ]
    },
    {
      "cell_type": "markdown",
      "source": [
        "### Nathan Venier's Code:"
      ],
      "metadata": {
        "id": "0v-_uQ1dnuT6"
      }
    },
    {
      "cell_type": "markdown",
      "source": [
        "Translating from Italian to English\n",
        "\n",
        "**RUN ONLY ONCE**"
      ],
      "metadata": {
        "id": "rocEcHs6p5hO"
      }
    },
    {
      "cell_type": "code",
      "source": [
        "# Key pairings provided on Kaggle\n",
        "translate = {\n",
        "    \"cane\": \"dog\", \"cavallo\": \"horse\", \"elefante\": \"elephant\",\n",
        "    \"farfalla\": \"butterfly\", \"gallina\": \"chicken\", \"gatto\": \"cat\",\n",
        "    \"mucca\": \"cow\", \"pecora\": \"sheep\", \"scoiattolo\": \"squirrel\",\n",
        "    \"ragno\": \"spider\"\n",
        "}\n",
        "\n",
        "if not os.path.exists(translated_dataset_path):\n",
        "    os.makedirs(translated_dataset_path)\n",
        "\n",
        "for italian_name, english_name in translate.items():\n",
        "    original_class_path = os.path.join(original_dataset_path, italian_name)\n",
        "    translated_class_path = os.path.join(translated_dataset_path, english_name)\n",
        "    if os.path.exists(original_class_path):\n",
        "        shutil.copytree(original_class_path, translated_class_path)"
      ],
      "metadata": {
        "id": "i40WzPpTnsdx"
      },
      "execution_count": null,
      "outputs": []
    },
    {
      "cell_type": "markdown",
      "source": [
        "Preprocessing:"
      ],
      "metadata": {
        "id": "z-IP10j3qUgG"
      }
    },
    {
      "cell_type": "code",
      "source": [
        "# Create an ImageDataGenerator (where our ResNet is) for data augmentation\n",
        "datagen = ImageDataGenerator(\n",
        "    rescale=1./255,\n",
        "    validation_split=0.2,  # 20% Split\n",
        "    horizontal_flip=True,\n",
        "    zoom_range=0.2,\n",
        "    shear_range=0.2\n",
        ")\n",
        "\n",
        "# Training Set\n",
        "train_data = datagen.flow_from_directory(\n",
        "    translated_dataset_path,\n",
        "    target_size=(64, 64),\n",
        "    batch_size=32,\n",
        "    class_mode='categorical',\n",
        "    subset='training'\n",
        ")\n",
        "\n",
        "# Validation Set\n",
        "validation_data = datagen.flow_from_directory(\n",
        "    translated_dataset_path,\n",
        "    target_size=(64, 64),\n",
        "    batch_size=32,\n",
        "    class_mode='categorical',\n",
        "    subset='validation'\n",
        ")\n"
      ],
      "metadata": {
        "colab": {
          "base_uri": "https://localhost:8080/"
        },
        "id": "BDFVtf-YnskS",
        "outputId": "03fd557c-7393-4446-d3ce-f79b22f05c80"
      },
      "execution_count": null,
      "outputs": [
        {
          "output_type": "stream",
          "name": "stdout",
          "text": [
            "Found 21056 images belonging to 10 classes.\n",
            "Found 5259 images belonging to 10 classes.\n"
          ]
        }
      ]
    },
    {
      "cell_type": "markdown",
      "source": [
        "Nathan's CNN model:"
      ],
      "metadata": {
        "id": "Ii_NUxJjqdSA"
      }
    },
    {
      "cell_type": "code",
      "source": [
        "# Model\n",
        "model = Sequential([\n",
        "    Conv2D(32, (3, 3), activation='relu', input_shape=(64, 64, 3)),\n",
        "    MaxPooling2D((2, 2)),\n",
        "    Conv2D(64, (3, 3), activation='relu'),\n",
        "    MaxPooling2D((2, 2)),\n",
        "    Conv2D(128, (3, 3), activation='relu'),\n",
        "    MaxPooling2D((2, 2)),\n",
        "    Flatten(),\n",
        "    Dense(512, activation='relu'),\n",
        "    Dropout(0.5),\n",
        "    Dense(10, activation='softmax')\n",
        "])\n",
        "\n",
        "model.compile(optimizer=Adam(), loss='categorical_crossentropy', metrics=['accuracy'])\n"
      ],
      "metadata": {
        "id": "2MitX5dAnsnK"
      },
      "execution_count": null,
      "outputs": []
    },
    {
      "cell_type": "markdown",
      "source": [
        "Training:"
      ],
      "metadata": {
        "id": "DZvkUM8MqjXU"
      }
    },
    {
      "cell_type": "code",
      "source": [
        "history = model.fit(\n",
        "    train_data,\n",
        "    epochs=20,\n",
        "    validation_data=validation_data\n",
        ")"
      ],
      "metadata": {
        "colab": {
          "base_uri": "https://localhost:8080/"
        },
        "id": "4eAXlSwunsqB",
        "outputId": "a1021e7d-47a7-488f-ac6e-ce42d22b48f4"
      },
      "execution_count": null,
      "outputs": [
        {
          "output_type": "stream",
          "name": "stdout",
          "text": [
            "Epoch 1/20\n",
            "658/658 [==============================] - 249s 375ms/step - loss: 1.8847 - accuracy: 0.3414 - val_loss: 1.5069 - val_accuracy: 0.4759\n",
            "Epoch 2/20\n",
            "658/658 [==============================] - 258s 392ms/step - loss: 1.4730 - accuracy: 0.4978 - val_loss: 1.3007 - val_accuracy: 0.5531\n",
            "Epoch 3/20\n",
            "658/658 [==============================] - 256s 389ms/step - loss: 1.2853 - accuracy: 0.5630 - val_loss: 1.1675 - val_accuracy: 0.5988\n",
            "Epoch 4/20\n",
            "658/658 [==============================] - 260s 394ms/step - loss: 1.1668 - accuracy: 0.6039 - val_loss: 1.1209 - val_accuracy: 0.6165\n",
            "Epoch 5/20\n",
            "658/658 [==============================] - 256s 389ms/step - loss: 1.0723 - accuracy: 0.6323 - val_loss: 1.0504 - val_accuracy: 0.6408\n",
            "Epoch 6/20\n",
            "658/658 [==============================] - 240s 365ms/step - loss: 1.0197 - accuracy: 0.6534 - val_loss: 1.0180 - val_accuracy: 0.6458\n",
            "Epoch 7/20\n",
            "658/658 [==============================] - 254s 387ms/step - loss: 0.9730 - accuracy: 0.6698 - val_loss: 0.9731 - val_accuracy: 0.6743\n",
            "Epoch 8/20\n",
            "658/658 [==============================] - 260s 395ms/step - loss: 0.9043 - accuracy: 0.6934 - val_loss: 0.9345 - val_accuracy: 0.6891\n",
            "Epoch 9/20\n",
            "658/658 [==============================] - 253s 384ms/step - loss: 0.8729 - accuracy: 0.7029 - val_loss: 0.9123 - val_accuracy: 0.6977\n",
            "Epoch 10/20\n",
            "658/658 [==============================] - 255s 388ms/step - loss: 0.8280 - accuracy: 0.7170 - val_loss: 0.8866 - val_accuracy: 0.7062\n",
            "Epoch 11/20\n",
            "658/658 [==============================] - 253s 385ms/step - loss: 0.7969 - accuracy: 0.7265 - val_loss: 0.9171 - val_accuracy: 0.7093\n",
            "Epoch 12/20\n",
            "658/658 [==============================] - 256s 389ms/step - loss: 0.7594 - accuracy: 0.7447 - val_loss: 0.8990 - val_accuracy: 0.6986\n",
            "Epoch 13/20\n",
            "658/658 [==============================] - 252s 383ms/step - loss: 0.7404 - accuracy: 0.7454 - val_loss: 0.8935 - val_accuracy: 0.7087\n",
            "Epoch 14/20\n",
            "658/658 [==============================] - 235s 357ms/step - loss: 0.7258 - accuracy: 0.7529 - val_loss: 0.8940 - val_accuracy: 0.7108\n",
            "Epoch 15/20\n",
            "658/658 [==============================] - 252s 383ms/step - loss: 0.6923 - accuracy: 0.7618 - val_loss: 0.9386 - val_accuracy: 0.7024\n",
            "Epoch 16/20\n",
            "658/658 [==============================] - 248s 376ms/step - loss: 0.6655 - accuracy: 0.7758 - val_loss: 0.8922 - val_accuracy: 0.7144\n",
            "Epoch 17/20\n",
            "658/658 [==============================] - 251s 381ms/step - loss: 0.6587 - accuracy: 0.7759 - val_loss: 0.8895 - val_accuracy: 0.7260\n",
            "Epoch 18/20\n",
            "658/658 [==============================] - 255s 387ms/step - loss: 0.6216 - accuracy: 0.7899 - val_loss: 0.8630 - val_accuracy: 0.7231\n",
            "Epoch 19/20\n",
            "658/658 [==============================] - 253s 384ms/step - loss: 0.6174 - accuracy: 0.7883 - val_loss: 0.9275 - val_accuracy: 0.7245\n",
            "Epoch 20/20\n",
            "658/658 [==============================] - 253s 385ms/step - loss: 0.5982 - accuracy: 0.7950 - val_loss: 0.9071 - val_accuracy: 0.7258\n"
          ]
        }
      ]
    },
    {
      "cell_type": "markdown",
      "source": [
        "Evaluation:"
      ],
      "metadata": {
        "id": "payPaGq0qpZv"
      }
    },
    {
      "cell_type": "code",
      "source": [
        "# Plot training & validation accuracy and loss values\n",
        "plt.figure(figsize=(12, 4))\n",
        "\n",
        "plt.subplot(1, 2, 1)\n",
        "plt.plot(history.history['accuracy'])\n",
        "plt.plot(history.history['val_accuracy'])\n",
        "plt.title('Model accuracy')\n",
        "plt.ylabel('Accuracy')\n",
        "plt.xlabel('Epoch')\n",
        "plt.legend(['Train', 'Validation'], loc='upper left')\n",
        "\n",
        "plt.subplot(1, 2, 2)\n",
        "plt.plot(history.history['loss'])\n",
        "plt.plot(history.history['val_loss'])\n",
        "plt.title('Model loss')\n",
        "plt.ylabel('Loss')\n",
        "plt.xlabel('Epoch')\n",
        "plt.legend(['Train', 'Validation'], loc='upper left')\n",
        "\n",
        "plt.show()\n"
      ],
      "metadata": {
        "colab": {
          "base_uri": "https://localhost:8080/",
          "height": 568
        },
        "id": "blw213xRnssX",
        "outputId": "3e147896-a566-4190-e7cc-c68e3103c3dd"
      },
      "execution_count": null,
      "outputs": [
        {
          "output_type": "error",
          "ename": "NameError",
          "evalue": "name 'history' is not defined",
          "traceback": [
            "\u001b[0;31m---------------------------------------------------------------------------\u001b[0m",
            "\u001b[0;31mNameError\u001b[0m                                 Traceback (most recent call last)",
            "\u001b[0;32m<ipython-input-3-8f4085a3d5ac>\u001b[0m in \u001b[0;36m<cell line: 5>\u001b[0;34m()\u001b[0m\n\u001b[1;32m      3\u001b[0m \u001b[0;34m\u001b[0m\u001b[0m\n\u001b[1;32m      4\u001b[0m \u001b[0mplt\u001b[0m\u001b[0;34m.\u001b[0m\u001b[0msubplot\u001b[0m\u001b[0;34m(\u001b[0m\u001b[0;36m1\u001b[0m\u001b[0;34m,\u001b[0m \u001b[0;36m2\u001b[0m\u001b[0;34m,\u001b[0m \u001b[0;36m1\u001b[0m\u001b[0;34m)\u001b[0m\u001b[0;34m\u001b[0m\u001b[0;34m\u001b[0m\u001b[0m\n\u001b[0;32m----> 5\u001b[0;31m \u001b[0mplt\u001b[0m\u001b[0;34m.\u001b[0m\u001b[0mplot\u001b[0m\u001b[0;34m(\u001b[0m\u001b[0mhistory\u001b[0m\u001b[0;34m.\u001b[0m\u001b[0mhistory\u001b[0m\u001b[0;34m[\u001b[0m\u001b[0;34m'accuracy'\u001b[0m\u001b[0;34m]\u001b[0m\u001b[0;34m)\u001b[0m\u001b[0;34m\u001b[0m\u001b[0;34m\u001b[0m\u001b[0m\n\u001b[0m\u001b[1;32m      6\u001b[0m \u001b[0mplt\u001b[0m\u001b[0;34m.\u001b[0m\u001b[0mplot\u001b[0m\u001b[0;34m(\u001b[0m\u001b[0mhistory\u001b[0m\u001b[0;34m.\u001b[0m\u001b[0mhistory\u001b[0m\u001b[0;34m[\u001b[0m\u001b[0;34m'val_accuracy'\u001b[0m\u001b[0;34m]\u001b[0m\u001b[0;34m)\u001b[0m\u001b[0;34m\u001b[0m\u001b[0;34m\u001b[0m\u001b[0m\n\u001b[1;32m      7\u001b[0m \u001b[0mplt\u001b[0m\u001b[0;34m.\u001b[0m\u001b[0mtitle\u001b[0m\u001b[0;34m(\u001b[0m\u001b[0;34m'Model accuracy'\u001b[0m\u001b[0;34m)\u001b[0m\u001b[0;34m\u001b[0m\u001b[0;34m\u001b[0m\u001b[0m\n",
            "\u001b[0;31mNameError\u001b[0m: name 'history' is not defined"
          ]
        },
        {
          "output_type": "display_data",
          "data": {
            "text/plain": [
              "<Figure size 1200x400 with 1 Axes>"
            ],
            "image/png": "[encoded data removed]"
          },
          "metadata": {}
        }
      ]
    },
    {
      "cell_type": "markdown",
      "source": [
        "Rodrigo's Model"
      ],
      "metadata": {
        "id": "hEftpbo1q5C3"
      }
    },
    {
      "cell_type": "code",
      "source": [
        "datagen = ImageDataGenerator(\n",
        "    rescale=1./255,\n",
        "    validation_split=0.2,  # 20% Split\n",
        "    horizontal_flip=True,\n",
        "    zoom_range=0.2,\n",
        "    shear_range=0.2,\n",
        "    rotation_range=20,\n",
        "    width_shift_range=0.2,\n",
        "    height_shift_range=0.2\n",
        ")\n",
        "\n",
        "# Training Set\n",
        "train_data = datagen.flow_from_directory(\n",
        "    translated_dataset_path,\n",
        "    target_size=(64, 64),\n",
        "    batch_size=32,\n",
        "    class_mode='categorical',\n",
        "    subset='training'\n",
        ")\n",
        "\n",
        "# Validation Set\n",
        "validation_data = datagen.flow_from_directory(\n",
        "    translated_dataset_path,\n",
        "    target_size=(64, 64),\n",
        "    batch_size=32,\n",
        "    class_mode='categorical',\n",
        "    subset='validation'\n",
        ")"
      ],
      "metadata": {
        "id": "OY4kVcRrnswy"
      },
      "execution_count": null,
      "outputs": []
    },
    {
      "cell_type": "markdown",
      "source": [],
      "metadata": {
        "id": "Fas_eFxtq5nv"
      }
    },
    {
      "cell_type": "code",
      "source": [
        "model = Sequential([\n",
        "    Conv2D(32, (3, 3), activation='relu', input_shape=(64, 64, 3)),\n",
        "    BatchNormalization(),\n",
        "    MaxPooling2D((2, 2)),\n",
        "    Conv2D(64, (3, 3), activation='relu'),\n",
        "    BatchNormalization(),\n",
        "    MaxPooling2D((2, 2)),\n",
        "    Conv2D(128, (3, 3), activation='relu'),\n",
        "    BatchNormalization(),\n",
        "    MaxPooling2D((2, 2)),\n",
        "    Conv2D(256, (3, 3), activation='relu'),\n",
        "    BatchNormalization(),\n",
        "    MaxPooling2D((2, 2)),\n",
        "    Flatten(),\n",
        "    Dense(512, activation='relu'),\n",
        "    Dropout(0.5),\n",
        "    Dense(256, activation='relu'),\n",
        "    Dropout(0.5),\n",
        "    Dense(10, activation='softmax')\n",
        "])"
      ],
      "metadata": {
        "id": "Pv5cwN9Xq54a"
      },
      "execution_count": null,
      "outputs": []
    },
    {
      "cell_type": "markdown",
      "source": [
        "training took about 2 hours"
      ],
      "metadata": {
        "id": "1EiAxmSaq6Bh"
      }
    },
    {
      "cell_type": "code",
      "source": [
        "# Train the model\n",
        "history = model.fit(\n",
        "    train_data,\n",
        "    epochs=20,\n",
        "    validation_data=validation_data\n",
        ")\n"
      ],
      "metadata": {
        "id": "vZxTby_wq6Ij"
      },
      "execution_count": null,
      "outputs": []
    },
    {
      "cell_type": "markdown",
      "source": [],
      "metadata": {
        "id": "5-JL1si5q6RJ"
      }
    },
    {
      "cell_type": "code",
      "source": [
        "# Plot training & validation accuracy and loss values\n",
        "plt.figure(figsize=(12, 4))\n",
        "\n",
        "plt.subplot(1, 2, 1)\n",
        "plt.plot(history.history['accuracy'])\n",
        "plt.plot(history.history['val_accuracy'])\n",
        "plt.title('Model accuracy')\n",
        "plt.ylabel('Accuracy')\n",
        "plt.xlabel('Epoch')\n",
        "plt.legend(['Train', 'Validation'], loc='upper left')\n",
        "\n",
        "plt.subplot(1, 2, 2)\n",
        "plt.plot(history.history['loss'])\n",
        "plt.plot(history.history['val_loss'])\n",
        "plt.title('Model loss')\n",
        "plt.ylabel('Loss')\n",
        "plt.xlabel('Epoch')\n",
        "plt.legend(['Train', 'Validation'], loc='upper left')\n",
        "\n",
        "plt.show()"
      ],
      "metadata": {
        "id": "PWToK8qYq6XZ"
      },
      "execution_count": null,
      "outputs": []
    },
    {
      "cell_type": "markdown",
      "source": [],
      "metadata": {
        "id": "3GTyV-_tq6d6"
      }
    },
    {
      "cell_type": "code",
      "source": [],
      "metadata": {
        "id": "u0Ykl9Wcq6jH"
      },
      "execution_count": null,
      "outputs": []
    }
  ]
}